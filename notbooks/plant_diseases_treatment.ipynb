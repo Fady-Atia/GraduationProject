{
 "cells": [
  {
   "cell_type": "code",
   "execution_count": 4,
   "id": "a67f1d74",
   "metadata": {},
   "outputs": [],
   "source": [
    "import pandas as pd \n",
    "import os"
   ]
  },
  {
   "cell_type": "code",
   "execution_count": 5,
   "id": "0470ffd9",
   "metadata": {},
   "outputs": [
    {
     "name": "stdout",
     "output_type": "stream",
     "text": [
      "e:\\GraduationProject\\notbooks\n"
     ]
    }
   ],
   "source": [
    "\n",
    "print(os.getcwd())"
   ]
  },
  {
   "cell_type": "code",
   "execution_count": 7,
   "id": "e550945e",
   "metadata": {},
   "outputs": [],
   "source": [
    "df = pd.read_csv('data\\plant_diseases_treatment.csv')"
   ]
  },
  {
   "cell_type": "code",
   "execution_count": 8,
   "id": "45ef809a",
   "metadata": {},
   "outputs": [
    {
     "data": {
      "text/html": [
       "<div>\n",
       "<style scoped>\n",
       "    .dataframe tbody tr th:only-of-type {\n",
       "        vertical-align: middle;\n",
       "    }\n",
       "\n",
       "    .dataframe tbody tr th {\n",
       "        vertical-align: top;\n",
       "    }\n",
       "\n",
       "    .dataframe thead th {\n",
       "        text-align: right;\n",
       "    }\n",
       "</style>\n",
       "<table border=\"1\" class=\"dataframe\">\n",
       "  <thead>\n",
       "    <tr style=\"text-align: right;\">\n",
       "      <th></th>\n",
       "      <th>اسم النبات</th>\n",
       "      <th>اسم المرض</th>\n",
       "      <th>العلاج</th>\n",
       "      <th>طريقة الرش</th>\n",
       "      <th>توقيت الرش</th>\n",
       "      <th>إجراءات إضافية</th>\n",
       "    </tr>\n",
       "  </thead>\n",
       "  <tbody>\n",
       "    <tr>\n",
       "      <th>0</th>\n",
       "      <td>تفاح</td>\n",
       "      <td>الجرب</td>\n",
       "      <td>مبيدات فطرية من مجموعة الستروبيورين مثل Azoxys...</td>\n",
       "      <td>بخاخة يدوية: 0.5 - 1 مل لكل لتر. ماتور رش: الن...</td>\n",
       "      <td>صباحًا أو قبل الغروب. كل 10 - 14 يوم</td>\n",
       "      <td>لا يوجد</td>\n",
       "    </tr>\n",
       "    <tr>\n",
       "      <th>1</th>\n",
       "      <td>تفاح</td>\n",
       "      <td>العفن الأسود</td>\n",
       "      <td>كابتان، مانكوزيب، ثيوفانات-ميثيل، مايكيلوبوتانيل</td>\n",
       "      <td>بخاخة: 10-15 جم/10 لتر. ماتور: 1-1.5 كجم/1000 لتر</td>\n",
       "      <td>كل 7-10 أيام</td>\n",
       "      <td>إزالة الأجزاء المصابة. تهوية جيدة</td>\n",
       "    </tr>\n",
       "    <tr>\n",
       "      <th>2</th>\n",
       "      <td>تفاح</td>\n",
       "      <td>صدأ الأرز والتفاح</td>\n",
       "      <td>مانكوزيب، مايكيلوبوتانيل، بروبيكونازول</td>\n",
       "      <td>بخاخة: 10-15 جم/10 لتر. ماتور: 1-1.5 كجم/1000 لتر</td>\n",
       "      <td>كل 7-10 أيام عند الظروف المناسبة</td>\n",
       "      <td>إزالة أوراق مصابة. عدم زراعة بجانب الأرز</td>\n",
       "    </tr>\n",
       "    <tr>\n",
       "      <th>3</th>\n",
       "      <td>كرز</td>\n",
       "      <td>البياض الدقيقي</td>\n",
       "      <td>كبريت، مايكيلوبوتانيل، ترياديمينول</td>\n",
       "      <td>بخاخة: 10-15 جم/10 لتر. ماتور: 1-1.5 كجم/1000 لتر</td>\n",
       "      <td>كل 10-14 يوم. تجنب رش الكبريت فوق 30 درجة</td>\n",
       "      <td>تقليم جيد. إزالة أوراق/ثمار مصابة</td>\n",
       "    </tr>\n",
       "    <tr>\n",
       "      <th>4</th>\n",
       "      <td>ذرة</td>\n",
       "      <td>الصدأ الشائع</td>\n",
       "      <td>ستروبيورين (Azoxystrobin, Pyraclostrobin)، تري...</td>\n",
       "      <td>بخاخة: 10 مل/10 لتر. ماتور: 500 مل/200 لتر</td>\n",
       "      <td>عند أول ظهور، وكرر كل 7-10 أيام</td>\n",
       "      <td>إزالة الأوراق المصابة، تهوية جيدة، زراعة أصناف...</td>\n",
       "    </tr>\n",
       "  </tbody>\n",
       "</table>\n",
       "</div>"
      ],
      "text/plain": [
       "  اسم النبات          اسم المرض  \\\n",
       "0       تفاح              الجرب   \n",
       "1       تفاح       العفن الأسود   \n",
       "2       تفاح  صدأ الأرز والتفاح   \n",
       "3        كرز     البياض الدقيقي   \n",
       "4        ذرة       الصدأ الشائع   \n",
       "\n",
       "                                              العلاج  \\\n",
       "0  مبيدات فطرية من مجموعة الستروبيورين مثل Azoxys...   \n",
       "1   كابتان، مانكوزيب، ثيوفانات-ميثيل، مايكيلوبوتانيل   \n",
       "2             مانكوزيب، مايكيلوبوتانيل، بروبيكونازول   \n",
       "3                 كبريت، مايكيلوبوتانيل، ترياديمينول   \n",
       "4  ستروبيورين (Azoxystrobin, Pyraclostrobin)، تري...   \n",
       "\n",
       "                                          طريقة الرش  \\\n",
       "0  بخاخة يدوية: 0.5 - 1 مل لكل لتر. ماتور رش: الن...   \n",
       "1  بخاخة: 10-15 جم/10 لتر. ماتور: 1-1.5 كجم/1000 لتر   \n",
       "2  بخاخة: 10-15 جم/10 لتر. ماتور: 1-1.5 كجم/1000 لتر   \n",
       "3  بخاخة: 10-15 جم/10 لتر. ماتور: 1-1.5 كجم/1000 لتر   \n",
       "4         بخاخة: 10 مل/10 لتر. ماتور: 500 مل/200 لتر   \n",
       "\n",
       "                                  توقيت الرش  \\\n",
       "0       صباحًا أو قبل الغروب. كل 10 - 14 يوم   \n",
       "1                               كل 7-10 أيام   \n",
       "2           كل 7-10 أيام عند الظروف المناسبة   \n",
       "3  كل 10-14 يوم. تجنب رش الكبريت فوق 30 درجة   \n",
       "4            عند أول ظهور، وكرر كل 7-10 أيام   \n",
       "\n",
       "                                      إجراءات إضافية  \n",
       "0                                            لا يوجد  \n",
       "1                  إزالة الأجزاء المصابة. تهوية جيدة  \n",
       "2           إزالة أوراق مصابة. عدم زراعة بجانب الأرز  \n",
       "3                  تقليم جيد. إزالة أوراق/ثمار مصابة  \n",
       "4  إزالة الأوراق المصابة، تهوية جيدة، زراعة أصناف...  "
      ]
     },
     "execution_count": 8,
     "metadata": {},
     "output_type": "execute_result"
    }
   ],
   "source": [
    "df.head()"
   ]
  },
  {
   "cell_type": "code",
   "execution_count": 9,
   "id": "7c33d807",
   "metadata": {},
   "outputs": [
    {
     "data": {
      "text/plain": [
       "(19, 6)"
      ]
     },
     "execution_count": 9,
     "metadata": {},
     "output_type": "execute_result"
    }
   ],
   "source": [
    "df.shape"
   ]
  },
  {
   "cell_type": "code",
   "execution_count": null,
   "id": "66dcddbc",
   "metadata": {},
   "outputs": [],
   "source": []
  }
 ],
 "metadata": {
  "kernelspec": {
   "display_name": "Python 3",
   "language": "python",
   "name": "python3"
  },
  "language_info": {
   "codemirror_mode": {
    "name": "ipython",
    "version": 3
   },
   "file_extension": ".py",
   "mimetype": "text/x-python",
   "name": "python",
   "nbconvert_exporter": "python",
   "pygments_lexer": "ipython3",
   "version": "3.9.22"
  }
 },
 "nbformat": 4,
 "nbformat_minor": 5
}
